{
 "cells": [
  {
   "cell_type": "code",
   "execution_count": 30,
   "metadata": {},
   "outputs": [
    {
     "name": "stdout",
     "output_type": "stream",
     "text": [
      "0 2\n",
      "1 1\n"
     ]
    },
    {
     "data": {
      "text/plain": [
       "2"
      ]
     },
     "execution_count": 30,
     "metadata": {},
     "output_type": "execute_result"
    }
   ],
   "source": [
    "def find_medain(a, b):\n",
    "    if len(a) > len(b):\n",
    "        a, b  = b, a\n",
    "    \n",
    "    x = len(a)\n",
    "    y = len(b)\n",
    "    \n",
    "    low = 0\n",
    "    high = x\n",
    "    \n",
    "    while low <= high:\n",
    "        #partition of list a \n",
    "        i_x = (low + high)//2\n",
    "        #partition of list b\n",
    "        j_y = (x + y +1)//2 - i_x\n",
    "        print(i_x, j_y)\n",
    "        \n",
    "        mxleftX = a[i_x - 1]  if i_x > 0 else float('-inf')\n",
    "        minrightX = float('inf') if i_x == x else a[i_x]\n",
    "\n",
    "        \n",
    "        mxleftY = b[j_y - 1]  if j_y > 0 else float('-inf')\n",
    "        minrighY = float('inf') if j_y == y else b[j_y]\n",
    "        \n",
    "        if mxleftX <= minrighY and minrightX >= mxleftY:\n",
    "            if (x + y) % 2 == 0:\n",
    "                return ( max(mxleftX, mxleftY )+ min(minrightX, minrighY))/2.0\n",
    "            else:\n",
    "                return max(mxleftX, mxleftY)\n",
    "        elif mxleftX > minrighY:\n",
    "            high = i_x - 1\n",
    "        else:\n",
    "            low = i_x + 1\n",
    "        \n",
    "        \n",
    "b = [2]\n",
    "a = [1,3]\n",
    "find_medain(a, b)        "
   ]
  },
  {
   "cell_type": "code",
   "execution_count": null,
   "metadata": {},
   "outputs": [],
   "source": []
  },
  {
   "cell_type": "code",
   "execution_count": null,
   "metadata": {},
   "outputs": [],
   "source": []
  }
 ],
 "metadata": {
  "kernelspec": {
   "display_name": "Python 3",
   "language": "python",
   "name": "python3"
  },
  "language_info": {
   "codemirror_mode": {
    "name": "ipython",
    "version": 3
   },
   "file_extension": ".py",
   "mimetype": "text/x-python",
   "name": "python",
   "nbconvert_exporter": "python",
   "pygments_lexer": "ipython3",
   "version": "3.7.7"
  }
 },
 "nbformat": 4,
 "nbformat_minor": 4
}
