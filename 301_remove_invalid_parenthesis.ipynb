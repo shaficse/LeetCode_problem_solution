{
 "cells": [
  {
   "cell_type": "code",
   "execution_count": 1,
   "metadata": {},
   "outputs": [],
   "source": [
    "def isParenthesis(c):\n",
    "    return  c =='('  or c == ')'"
   ]
  },
  {
   "cell_type": "code",
   "execution_count": 2,
   "metadata": {},
   "outputs": [],
   "source": [
    "def isValidString(str):\n",
    "    cnt = 0\n",
    "    ln = len(str)\n",
    "    for i in range(ln):\n",
    "        if str[i] == '(':\n",
    "            cnt += 1\n",
    "        elif str[i] == ')':\n",
    "            cnt -= 1\n",
    "        if cnt < 0:\n",
    "            return False\n",
    "    return cnt == 0"
   ]
  },
  {
   "cell_type": "code",
   "execution_count": 3,
   "metadata": {},
   "outputs": [],
   "source": [
    "def removalInvalidParenthesis(str):\n",
    "    ln = len(str)\n",
    "    if ln == 0:\n",
    "        return \n",
    "    \n",
    "    visit = set()\n",
    "    q = []\n",
    "    temp = 0\n",
    "    level  = 0\n",
    "    \n",
    "    q.append(str)\n",
    "    visit.add(str)\n",
    "    while len(q):\n",
    "        str = q[0]\n",
    "        q.pop()\n",
    "        if isValidString(str):\n",
    "            print(str)\n",
    "            level = True\n",
    "        if level:\n",
    "            continue\n",
    "        ln = len(str)\n",
    "        for i in range(ln):\n",
    "            if not isParenthesis(str[i]):\n",
    "                continue\n",
    "            temp = str[0:i] + str[i+1:]\n",
    "            if temp not in visit:\n",
    "                q.append(temp)\n",
    "                visit.add(temp)\n",
    "    \n",
    "    \n",
    "    "
   ]
  },
  {
   "cell_type": "code",
   "execution_count": 4,
   "metadata": {},
   "outputs": [],
   "source": [
    "expr = \"()())()\"\n",
    "removalInvalidParenthesis(expr)"
   ]
  },
  {
   "cell_type": "code",
   "execution_count": 5,
   "metadata": {},
   "outputs": [],
   "source": [
    "class Solution():\n",
    "    def __init__(self):\n",
    "        self.valid_expressions = None\n",
    "        self.min_removed  = None\n",
    "    def reset(self):\n",
    "        self.valid_expressions = set()\n",
    "        self.min_removed = float('inf')\n",
    "    def remaining(self, string, index, lelf_count, right_count, expr, rem_count):\n",
    "        if index == len(string):\n",
    "            if rem_count <= self.min_removed:\n",
    "                possible_ans = \"\"\"\"\"\""
   ]
  },
  {
   "cell_type": "code",
   "execution_count": null,
   "metadata": {},
   "outputs": [],
   "source": []
  },
  {
   "cell_type": "code",
   "execution_count": null,
   "metadata": {},
   "outputs": [],
   "source": []
  },
  {
   "cell_type": "code",
   "execution_count": null,
   "metadata": {},
   "outputs": [],
   "source": []
  }
 ],
 "metadata": {
  "kernelspec": {
   "display_name": "Python 3",
   "language": "python",
   "name": "python3"
  },
  "language_info": {
   "codemirror_mode": {
    "name": "ipython",
    "version": 3
   },
   "file_extension": ".py",
   "mimetype": "text/x-python",
   "name": "python",
   "nbconvert_exporter": "python",
   "pygments_lexer": "ipython3",
   "version": "3.7.7"
  }
 },
 "nbformat": 4,
 "nbformat_minor": 4
}
